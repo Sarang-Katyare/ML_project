{
 "cells": [
  {
   "cell_type": "code",
   "execution_count": null,
   "id": "8f42aec5-df1c-47f5-b8aa-6fd235fb99e0",
   "metadata": {},
   "outputs": [],
   "source": [
    "import pandas as pd\n",
    "import numpy as np"
   ]
  },
  {
   "cell_type": "code",
   "execution_count": null,
   "id": "3eaecabc-4387-4e36-ad02-95a8cda3f44b",
   "metadata": {},
   "outputs": [],
   "source": [
    "!pip install imbalanced-learn"
   ]
  },
  {
   "cell_type": "code",
   "execution_count": null,
   "id": "2065549d-4ef4-4209-8a50-a4d9a152cff4",
   "metadata": {},
   "outputs": [],
   "source": [
    "df = pd.read_csv('cleaned_data.csv')"
   ]
  },
  {
   "cell_type": "code",
   "execution_count": null,
   "id": "ac0a39e1-0ff3-4b6f-8ec8-51e4c5c2c19f",
   "metadata": {},
   "outputs": [],
   "source": [
    "df.head()"
   ]
  },
  {
   "cell_type": "code",
   "execution_count": null,
   "id": "b5ad4479-ff7b-4d56-8b94-aba7638537a3",
   "metadata": {},
   "outputs": [],
   "source": [
    "df.info()"
   ]
  },
  {
   "cell_type": "code",
   "execution_count": null,
   "id": "873e24f9-b004-4ec0-b61d-af0b77fc6165",
   "metadata": {},
   "outputs": [],
   "source": [
    "df.corr()"
   ]
  },
  {
   "cell_type": "code",
   "execution_count": null,
   "id": "1909995d-275f-4557-aa94-27400be1388d",
   "metadata": {},
   "outputs": [],
   "source": [
    "df['state'].value_counts()"
   ]
  },
  {
   "cell_type": "code",
   "execution_count": null,
   "id": "bea827a9-226c-4f16-92cb-f5fdc527fbda",
   "metadata": {},
   "outputs": [],
   "source": [
    "from imblearn.over_sampling import SMOTE\n",
    "from sklearn.preprocessing import LabelEncoder\n",
    "\n",
    "df['state'] = df['state'].str.strip()\n",
    "\n",
    "categorical_columns = df.select_dtypes(include=['object']).columns\n",
    "categorical_columns = categorical_columns.drop('state')\n",
    "\n",
    "df_encoded = df.copy()\n",
    "label_encoders = {}\n",
    "for col in categorical_columns:\n",
    "    le = LabelEncoder()\n",
    "    df_encoded[col] = le.fit_transform(df[col])\n",
    "    label_encoders[col] = le\n",
    "\n",
    "\n",
    "X = df_encoded.drop(columns=['state'])\n",
    "y = df_encoded['state']\n",
    "\n",
    "le_state = LabelEncoder()\n",
    "le_state.fit(df['state'])\n",
    "y_encoded = le_state.transform(df['state'])\n",
    "\n",
    "smote = SMOTE(random_state=42)\n",
    "X_resampled, y_resampled = smote.fit_resample(X, y_encoded)\n",
    "\n",
    "y_resampled_decoded = le_state.inverse_transform(y_resampled)\n",
    "\n",
    "resampled_df = pd.DataFrame(X_resampled, columns=X.columns)\n",
    "resampled_df['state'] = y_resampled_decoded\n",
    "\n",
    "df = resampled_df\n",
    "\n",
    "df['state'].value_counts()"
   ]
  },
  {
   "cell_type": "code",
   "execution_count": null,
   "id": "2d9831e7-663c-4f6d-940e-d3d5a9b82fd0",
   "metadata": {},
   "outputs": [],
   "source": [
    "df.corr()"
   ]
  },
  {
   "cell_type": "code",
   "execution_count": null,
   "id": "2ef67d92-c926-41d5-a1f0-7da2494049dc",
   "metadata": {},
   "outputs": [],
   "source": [
    "df"
   ]
  },
  {
   "cell_type": "code",
   "execution_count": null,
   "id": "eb765e1f-9d7d-434b-9f6c-9c5c419b1714",
   "metadata": {},
   "outputs": [],
   "source": [
    "df.info()"
   ]
  },
  {
   "cell_type": "code",
   "execution_count": null,
   "id": "27a9bffb-8140-40fb-988d-2f08c91396f4",
   "metadata": {},
   "outputs": [],
   "source": [
    "df"
   ]
  },
  {
   "cell_type": "code",
   "execution_count": null,
   "id": "4f5ea3b0-4718-48e1-af35-7f2dbefac274",
   "metadata": {},
   "outputs": [],
   "source": [
    "le_state = LabelEncoder()"
   ]
  },
  {
   "cell_type": "code",
   "execution_count": null,
   "id": "227f8906-26b4-4c2a-b61d-69d4bb062b9b",
   "metadata": {},
   "outputs": [],
   "source": [
    "df['state'] = le_state.fit_transform(df['state'])"
   ]
  },
  {
   "cell_type": "code",
   "execution_count": null,
   "id": "9f148018-4071-4e39-892e-ff1d3fef6f4c",
   "metadata": {},
   "outputs": [],
   "source": [
    "le_state.classes_"
   ]
  },
  {
   "cell_type": "code",
   "execution_count": null,
   "id": "babf176b-6e78-4e84-bc7f-07476e886672",
   "metadata": {},
   "outputs": [],
   "source": [
    "df.head()"
   ]
  },
  {
   "cell_type": "code",
   "execution_count": null,
   "id": "53672682-8d91-4811-8876-09e38d9184f6",
   "metadata": {},
   "outputs": [],
   "source": [
    "from sklearn.model_selection import train_test_split\n",
    "\n",
    "x = df[['bedrooms', 'bathrooms', 'parking', 'area', 'state']]\n",
    "y = df['price']\n",
    "\n",
    "x_train, x_test, y_train, y_test = train_test_split(x, y, random_state=2345)"
   ]
  },
  {
   "cell_type": "code",
   "execution_count": null,
   "id": "6f3eaca3-d3c2-467d-87ae-61a6157058e8",
   "metadata": {},
   "outputs": [],
   "source": [
    "from catboost import CatBoostRegressor\n",
    "\n",
    "model = CatBoostRegressor()\n",
    "model.fit(x_train, y_train)"
   ]
  },
  {
   "cell_type": "code",
   "execution_count": null,
   "id": "74c95db2-02a7-4b3a-b293-d608a112257e",
   "metadata": {},
   "outputs": [],
   "source": [
    "from sklearn.metrics import r2_score\n",
    "\n",
    "r2_score(y_test, model.predict(x_test))"
   ]
  },
  {
   "cell_type": "code",
   "execution_count": null,
   "id": "4b075c7d-7a9d-41a0-951b-80bcd094fc25",
   "metadata": {},
   "outputs": [],
   "source": [
    "from xgboost import XGBRegressor\n",
    "\n",
    "model2 = XGBRegressor()\n",
    "model2.fit(x_train, y_train)"
   ]
  },
  {
   "cell_type": "code",
   "execution_count": null,
   "id": "63435eb6-81ea-40fa-b8f6-c6a96ca1f878",
   "metadata": {},
   "outputs": [],
   "source": [
    "r2_score(y_test, model2.predict(x_test))"
   ]
  },
  {
   "cell_type": "code",
   "execution_count": null,
   "id": "464e0eef-c399-4e6a-8fb7-7dccfbc0b578",
   "metadata": {},
   "outputs": [],
   "source": [
    "# import pickle\n",
    "\n",
    "# with open('./model.pkl', 'wb') as file:\n",
    "#     pickle.dump(model, file)"
   ]
  },
  {
   "cell_type": "code",
   "execution_count": null,
   "id": "b3f84d86-93fb-444b-861a-4f251b420780",
   "metadata": {},
   "outputs": [],
   "source": [
    "prediction = model.predict([[1, 2, 1,2700, 2]])\n",
    "result = prediction[0] "
   ]
  },
  {
   "cell_type": "code",
   "execution_count": null,
   "id": "b27f72ad-aeb7-4c0f-ba70-44ccc8789542",
   "metadata": {},
   "outputs": [],
   "source": [
    "result"
   ]
  },
  {
   "cell_type": "code",
   "execution_count": null,
   "id": "3d5e8d91-c31d-4b5a-9e47-7ab9a44d8ef9",
   "metadata": {},
   "outputs": [],
   "source": [
    "le_state.classes_"
   ]
  },
  {
   "cell_type": "code",
   "execution_count": null,
   "id": "82e958af-d2dd-4f5d-9fc0-491378b42af7",
   "metadata": {},
   "outputs": [],
   "source": [
    "df.info()"
   ]
  },
  {
   "cell_type": "code",
   "execution_count": null,
   "id": "ca70c978-21a4-4b5e-9b1e-fb5dd9f557e9",
   "metadata": {},
   "outputs": [],
   "source": [
    "\n",
    "from sklearn.linear_model import LinearRegression\n",
    "model_lr=LinearRegression()\n",
    "model_lr.fit(x_train,y_train)\n"
   ]
  },
  {
   "cell_type": "code",
   "execution_count": null,
   "id": "c1118ba9-5d16-45c9-bb8a-c6635a1df86b",
   "metadata": {},
   "outputs": [],
   "source": [
    "# def train_model_xg():\n",
    "#     from xgboost import XGBRegressor\n",
    "#     model=XGBRegressor()\n",
    "#     model.fit(x_train,y_train)\n",
    "#     return model"
   ]
  },
  {
   "cell_type": "code",
   "execution_count": null,
   "id": "d372bd69-9be1-4574-aeb8-f49491c57681",
   "metadata": {},
   "outputs": [],
   "source": [
    "# def train_model_cb():\n",
    "#     from catboost import CatBoostRegressor\n",
    "#     model=CatBoostRegressor()\n",
    "#     model.fit(x_train,y_train)\n",
    "#     return model"
   ]
  },
  {
   "cell_type": "code",
   "execution_count": null,
   "id": "88e1d76f-9a70-4ddb-b7c1-bcf1ea07a3c2",
   "metadata": {},
   "outputs": [],
   "source": [
    "\n",
    "from sklearn.naive_bayes import GaussianNB\n",
    "model_nb=GaussianNB()\n",
    "model_nb.fit(x_train,y_train)\n"
   ]
  },
  {
   "cell_type": "code",
   "execution_count": null,
   "id": "47ebd2c5-6c10-4392-adc7-0ecfaa3cb37f",
   "metadata": {},
   "outputs": [],
   "source": [
    "\n",
    "from sklearn.ensemble import RandomForestRegressor\n",
    "model_rf=RandomForestRegressor()\n",
    "model_rf.fit(x_train,y_train)\n"
   ]
  },
  {
   "cell_type": "code",
   "execution_count": null,
   "id": "d7fdeb5a-0aa6-4772-9bd3-2e4ada037c36",
   "metadata": {},
   "outputs": [],
   "source": [
    "\n",
    "from sklearn.ensemble import AdaBoostRegressor\n",
    "model_ab=AdaBoostRegressor()\n",
    "model_ab.fit(x_train,y_train)\n"
   ]
  },
  {
   "cell_type": "code",
   "execution_count": null,
   "id": "d36d8676-5d10-4823-9442-2691d377fc77",
   "metadata": {},
   "outputs": [],
   "source": [
    "# def evaluate_model(model,model_name):\n",
    "#     y_true=y_test\n",
    "#     y_pred=model.predict(x_test)\n",
    "#     from sklearn.metrics import r2_score\n",
    "#     r2=r2_score(y_true,y_pred)\n",
    "\n",
    "#     return model_name,r2"
   ]
  },
  {
   "cell_type": "code",
   "execution_count": null,
   "id": "289a82c2-3b91-4642-88e0-a2028068d919",
   "metadata": {},
   "outputs": [],
   "source": [
    "# models=[\n",
    "#     (train_model_lr(),'Linear Regression'),\n",
    "#     (train_model_xg(),'XG Boost'),\n",
    "#     (train_model_nb(),'Naive Bayes'),\n",
    "#     (train_model_rf(),'Random Forest'),\n",
    "#     (train_model_ab(),'AdaBoost')\n",
    "# ]"
   ]
  },
  {
   "cell_type": "code",
   "execution_count": null,
   "id": "b7486957-13a3-4b80-b8c2-ac2334700d6e",
   "metadata": {},
   "outputs": [],
   "source": [
    "# result=[]\n",
    "# for (model,model_name) in models:\n",
    "#     result.append(evaluate_model(model,model_name))  "
   ]
  },
  {
   "cell_type": "code",
   "execution_count": null,
   "id": "d19852fe-826d-4558-ab2d-f0e8da128c9b",
   "metadata": {},
   "outputs": [],
   "source": [
    "# result_df=pd.DataFrame(result,columns=[\"Algorithm\",\"R2 Score\"])\n",
    "# result_df"
   ]
  },
  {
   "cell_type": "code",
   "execution_count": null,
   "id": "800a40dd-cd7b-43b1-933e-19ec03d7c2b0",
   "metadata": {},
   "outputs": [],
   "source": [
    "from sklearn.metrics import r2_score\n",
    "\n",
    "r2_score(y_test, model_lr.predict(x_test))"
   ]
  },
  {
   "cell_type": "code",
   "execution_count": null,
   "id": "7f5ffc54-a15d-4d42-bcf4-850ea72055b7",
   "metadata": {},
   "outputs": [],
   "source": [
    "# from sklearn.metrics import r2_score\n",
    "\n",
    "# r2_score(y_test, model_nb.predict(x_test))"
   ]
  },
  {
   "cell_type": "code",
   "execution_count": null,
   "id": "89a798d9-cb15-41ba-ae61-4278f2edb210",
   "metadata": {},
   "outputs": [],
   "source": [
    "from sklearn.metrics import r2_score\n",
    "\n",
    "r2_score(y_test, model_rf.predict(x_test))"
   ]
  },
  {
   "cell_type": "code",
   "execution_count": null,
   "id": "81be439f-539c-427f-9219-f2e4a4894be5",
   "metadata": {},
   "outputs": [],
   "source": [
    "from sklearn.metrics import r2_score\n",
    "\n",
    "r2_score(y_test, model_ab.predict(x_test))"
   ]
  }
 ],
 "metadata": {
  "kernelspec": {
   "display_name": "Python 3 (ipykernel)",
   "language": "python",
   "name": "python3"
  },
  "language_info": {
   "codemirror_mode": {
    "name": "ipython",
    "version": 3
   },
   "file_extension": ".py",
   "mimetype": "text/x-python",
   "name": "python",
   "nbconvert_exporter": "python",
   "pygments_lexer": "ipython3",
   "version": "3.10.12"
  }
 },
 "nbformat": 4,
 "nbformat_minor": 5
}
